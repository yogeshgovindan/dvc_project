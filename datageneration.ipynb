{
 "cells": [
  {
   "cell_type": "code",
   "execution_count": 1,
   "metadata": {},
   "outputs": [
    {
     "name": "stdout",
     "output_type": "stream",
     "text": [
      "Data saved to 'data/train.csv' and 'data/test.csv'.\n"
     ]
    }
   ],
   "source": [
    "import pandas as pd\n",
    "import numpy as np\n",
    "\n",
    "# Generate synthetic dataset\n",
    "np.random.seed(42)\n",
    "\n",
    "# Create 1000 rows of data\n",
    "n_samples = 1000\n",
    "\n",
    "# Features\n",
    "X1 = np.random.normal(50, 10, n_samples)  # Age\n",
    "X2 = np.random.normal(2000, 500, n_samples)  # Income\n",
    "X3 = np.random.normal(5, 2, n_samples)  # Experience\n",
    "\n",
    "# Target: 0 or 1 (binary classification)\n",
    "y = np.random.choice([0, 1], size=n_samples)\n",
    "\n",
    "# Create a DataFrame\n",
    "data = pd.DataFrame({\n",
    "    'Age': X1,\n",
    "    'Income': X2,\n",
    "    'Experience': X3,\n",
    "    'Target': y\n",
    "})\n",
    "\n",
    "# Save to CSV (train data and test data)\n",
    "train_data = data.sample(frac=0.8, random_state=42)  # 80% for training\n",
    "test_data = data.drop(train_data.index)  # 20% for testing\n",
    "\n",
    "# Save to CSV files\n",
    "train_data.to_csv('data/train.csv', index=False)\n",
    "test_data.to_csv('data/test.csv', index=False)\n",
    "\n",
    "print(\"Data saved to 'data/train.csv' and 'data/test.csv'.\")\n"
   ]
  }
 ],
 "metadata": {
  "kernelspec": {
   "display_name": "ygdemo",
   "language": "python",
   "name": "python3"
  },
  "language_info": {
   "codemirror_mode": {
    "name": "ipython",
    "version": 3
   },
   "file_extension": ".py",
   "mimetype": "text/x-python",
   "name": "python",
   "nbconvert_exporter": "python",
   "pygments_lexer": "ipython3",
   "version": "3.8.19"
  }
 },
 "nbformat": 4,
 "nbformat_minor": 2
}
